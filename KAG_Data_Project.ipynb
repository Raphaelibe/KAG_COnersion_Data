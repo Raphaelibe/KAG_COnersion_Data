{
  "nbformat": 4,
  "nbformat_minor": 0,
  "metadata": {
    "colab": {
      "provenance": [],
      "mount_file_id": "10hJ0COIWWotyYwpPC2Ti-Wva5vveQBJc",
      "authorship_tag": "ABX9TyNsTKpjlMq/EKfWTZdgKV6y",
      "include_colab_link": true
    },
    "kernelspec": {
      "name": "python3",
      "display_name": "Python 3"
    },
    "language_info": {
      "name": "python"
    }
  },
  "cells": [
    {
      "cell_type": "markdown",
      "metadata": {
        "id": "view-in-github",
        "colab_type": "text"
      },
      "source": [
        "<a href=\"https://colab.research.google.com/github/Raphaelibe/KAG_COnersion_Data/blob/main/KAG_Data_Project.ipynb\" target=\"_parent\"><img src=\"https://colab.research.google.com/assets/colab-badge.svg\" alt=\"Open In Colab\"/></a>"
      ]
    },
    {
      "cell_type": "markdown",
      "source": [
        "# Importing Library"
      ],
      "metadata": {
        "id": "1ptWbsCWdCCl"
      }
    },
    {
      "cell_type": "code",
      "source": [
        "import numpy as np\n"
      ],
      "metadata": {
        "id": "Ocu08jxrckxN"
      },
      "execution_count": 1,
      "outputs": []
    },
    {
      "cell_type": "markdown",
      "source": [
        "# Data Reading"
      ],
      "metadata": {
        "id": "9CJJvuwadHNE"
      }
    },
    {
      "cell_type": "code",
      "execution_count": 2,
      "metadata": {
        "id": "MVZQBQbxb-8n"
      },
      "outputs": [],
      "source": [
        "data_file = '/content/drive/MyDrive/techis-ds-wiki-main/DS/Step 1-4 Data Processing/01_Numpy/makeSenseOfCensus.csv'"
      ]
    },
    {
      "cell_type": "markdown",
      "source": [
        "# Data Loading"
      ],
      "metadata": {
        "id": "depdA4rSdJmS"
      }
    },
    {
      "cell_type": "code",
      "source": [
        "data = np.genfromtxt(data_file,delimiter=',',skip_header=1)"
      ],
      "metadata": {
        "id": "b4TYlokVccl2"
      },
      "execution_count": 3,
      "outputs": []
    },
    {
      "cell_type": "code",
      "source": [
        "print( data)"
      ],
      "metadata": {
        "colab": {
          "base_uri": "https://localhost:8080/"
        },
        "id": "dpXCdJjqc5MN",
        "outputId": "d534c9e6-65d4-4f83-ff29-3760f9e37863"
      },
      "execution_count": 4,
      "outputs": [
        {
          "output_type": "stream",
          "name": "stdout",
          "text": [
            "[[39. 13.  4. ...  0. 40.  0.]\n",
            " [50. 13.  4. ...  0. 13.  0.]\n",
            " [38.  9.  4. ...  0. 40.  0.]\n",
            " ...\n",
            " [48. 13.  4. ...  0. 58.  1.]\n",
            " [40. 10.  4. ...  0. 40.  0.]\n",
            " [39. 13.  4. ...  0. 50.  1.]]\n"
          ]
        }
      ]
    },
    {
      "cell_type": "code",
      "source": [
        "new_record = [[50,9,4,1,0,0,40,0]]"
      ],
      "metadata": {
        "id": "eAueSivoc8gs"
      },
      "execution_count": 5,
      "outputs": []
    },
    {
      "cell_type": "markdown",
      "source": [
        "## Step 2: Appending Data"
      ],
      "metadata": {
        "id": "j8hROdWQeEwx"
      }
    },
    {
      "cell_type": "code",
      "source": [
        "data = np.concatenate((data,new_record))"
      ],
      "metadata": {
        "id": "aBlxvCKDdZW3"
      },
      "execution_count": 6,
      "outputs": []
    },
    {
      "cell_type": "code",
      "source": [
        "print(data)"
      ],
      "metadata": {
        "colab": {
          "base_uri": "https://localhost:8080/"
        },
        "id": "XfLhZO_0d2oE",
        "outputId": "071cce44-f19a-4cb3-c680-ce2cf4f0d082"
      },
      "execution_count": 7,
      "outputs": [
        {
          "output_type": "stream",
          "name": "stdout",
          "text": [
            "[[39. 13.  4. ...  0. 40.  0.]\n",
            " [50. 13.  4. ...  0. 13.  0.]\n",
            " [38.  9.  4. ...  0. 40.  0.]\n",
            " ...\n",
            " [40. 10.  4. ...  0. 40.  0.]\n",
            " [39. 13.  4. ...  0. 50.  1.]\n",
            " [50.  9.  4. ...  0. 40.  0.]]\n"
          ]
        }
      ]
    },
    {
      "cell_type": "code",
      "source": [
        "age = data[:,0]\n"
      ],
      "metadata": {
        "id": "4h85Jta6d3zE"
      },
      "execution_count": 8,
      "outputs": []
    },
    {
      "cell_type": "code",
      "source": [
        "max_age = age.max()\n",
        "print (max_age)"
      ],
      "metadata": {
        "colab": {
          "base_uri": "https://localhost:8080/"
        },
        "id": "a2NzyKFdeoio",
        "outputId": "3b951e72-cdd0-46c1-ed04-38d6aea33238"
      },
      "execution_count": 9,
      "outputs": [
        {
          "output_type": "stream",
          "name": "stdout",
          "text": [
            "90.0\n"
          ]
        }
      ]
    },
    {
      "cell_type": "code",
      "source": [
        "min_age = age.min()\n",
        "import numpy as np\n",
        "print (min_age)"
      ],
      "metadata": {
        "colab": {
          "base_uri": "https://localhost:8080/"
        },
        "id": "Iv6zt8Ik338g",
        "outputId": "42c6a9c2-a4d9-430a-9aa9-03a278d17c46"
      },
      "execution_count": 10,
      "outputs": [
        {
          "output_type": "stream",
          "name": "stdout",
          "text": [
            "17.0\n"
          ]
        }
      ]
    },
    {
      "cell_type": "code",
      "source": [
        "age_mean = age.min()\n",
        "print (age_mean)"
      ],
      "metadata": {
        "colab": {
          "base_uri": "https://localhost:8080/"
        },
        "id": "J60hmbK768Z0",
        "outputId": "88128cc7-8186-4bbf-f3ff-4cc44c84b0e2"
      },
      "execution_count": 11,
      "outputs": [
        {
          "output_type": "stream",
          "name": "stdout",
          "text": [
            "17.0\n"
          ]
        }
      ]
    },
    {
      "cell_type": "code",
      "source": [
        "age_std = age.std()\n",
        "print (age_std)"
      ],
      "metadata": {
        "colab": {
          "base_uri": "https://localhost:8080/"
        },
        "id": "U7DmtCBz_Jzq",
        "outputId": "8e89f0f7-9079-4352-dc2a-d79194d806ef"
      },
      "execution_count": 12,
      "outputs": [
        {
          "output_type": "stream",
          "name": "stdout",
          "text": [
            "13.341478176165857\n"
          ]
        }
      ]
    },
    {
      "cell_type": "code",
      "source": [],
      "metadata": {
        "id": "xjYsstznAmTj"
      },
      "execution_count": 12,
      "outputs": []
    },
    {
      "cell_type": "code",
      "source": [
        "race=data[:,2]\n",
        "race"
      ],
      "metadata": {
        "colab": {
          "base_uri": "https://localhost:8080/"
        },
        "id": "tw0t7iDtOpnS",
        "outputId": "ce5d2c43-34cd-412e-fc8d-978a9ab2d803"
      },
      "execution_count": 13,
      "outputs": [
        {
          "output_type": "execute_result",
          "data": {
            "text/plain": [
              "array([4., 4., 4., ..., 4., 4., 4.])"
            ]
          },
          "metadata": {},
          "execution_count": 13
        }
      ]
    },
    {
      "cell_type": "code",
      "source": [
        "race_0= np.array(race[race==0])\n",
        "race_0"
      ],
      "metadata": {
        "colab": {
          "base_uri": "https://localhost:8080/"
        },
        "id": "u09HhnilSRYM",
        "outputId": "adb0474b-3673-46c9-d18d-08bf4823d038"
      },
      "execution_count": 14,
      "outputs": [
        {
          "output_type": "execute_result",
          "data": {
            "text/plain": [
              "array([0., 0., 0., 0., 0., 0., 0., 0., 0., 0.])"
            ]
          },
          "metadata": {},
          "execution_count": 14
        }
      ]
    },
    {
      "cell_type": "code",
      "source": [
        "len(race_0)"
      ],
      "metadata": {
        "colab": {
          "base_uri": "https://localhost:8080/"
        },
        "id": "r3pLS2EuSqfI",
        "outputId": "9b7cb436-9fc8-47ae-c142-62b8e384882a"
      },
      "execution_count": 15,
      "outputs": [
        {
          "output_type": "execute_result",
          "data": {
            "text/plain": [
              "10"
            ]
          },
          "metadata": {},
          "execution_count": 15
        }
      ]
    },
    {
      "cell_type": "code",
      "source": [
        "race_1 = np.array(race[race==1])\n",
        "print(race_1)\n",
        "race_2 = np.array(race[race==2])\n",
        "print(race_2)\n",
        "race_3 = np.array(race[race==3])\n",
        "print(race_3)\n",
        "race_4 = np.array(race[race==4])\n",
        "print(race_4)"
      ],
      "metadata": {
        "colab": {
          "base_uri": "https://localhost:8080/"
        },
        "id": "U19EQWAESy_q",
        "outputId": "7d77c897-21df-468b-b591-fcbf86100cdd"
      },
      "execution_count": 16,
      "outputs": [
        {
          "output_type": "stream",
          "name": "stdout",
          "text": [
            "[1. 1. 1. 1. 1. 1. 1. 1. 1. 1. 1. 1. 1. 1. 1. 1. 1. 1. 1. 1. 1. 1. 1. 1.\n",
            " 1. 1. 1.]\n",
            "[2. 2. 2. 2. 2. 2. 2. 2. 2. 2. 2. 2. 2. 2. 2. 2. 2. 2. 2. 2. 2. 2. 2. 2.\n",
            " 2. 2. 2. 2. 2. 2. 2. 2. 2. 2. 2. 2. 2. 2. 2. 2. 2. 2. 2. 2. 2. 2. 2. 2.\n",
            " 2. 2. 2. 2. 2. 2. 2. 2. 2. 2. 2. 2. 2. 2. 2. 2. 2. 2. 2. 2. 2. 2. 2. 2.\n",
            " 2. 2. 2. 2. 2. 2. 2. 2. 2. 2. 2. 2. 2. 2. 2. 2. 2. 2. 2. 2. 2. 2. 2. 2.\n",
            " 2. 2. 2. 2. 2. 2. 2. 2. 2. 2. 2. 2. 2. 2.]\n",
            "[3. 3. 3. 3. 3. 3.]\n",
            "[4. 4. 4. 4. 4. 4. 4. 4. 4. 4. 4. 4. 4. 4. 4. 4. 4. 4. 4. 4. 4. 4. 4. 4.\n",
            " 4. 4. 4. 4. 4. 4. 4. 4. 4. 4. 4. 4. 4. 4. 4. 4. 4. 4. 4. 4. 4. 4. 4. 4.\n",
            " 4. 4. 4. 4. 4. 4. 4. 4. 4. 4. 4. 4. 4. 4. 4. 4. 4. 4. 4. 4. 4. 4. 4. 4.\n",
            " 4. 4. 4. 4. 4. 4. 4. 4. 4. 4. 4. 4. 4. 4. 4. 4. 4. 4. 4. 4. 4. 4. 4. 4.\n",
            " 4. 4. 4. 4. 4. 4. 4. 4. 4. 4. 4. 4. 4. 4. 4. 4. 4. 4. 4. 4. 4. 4. 4. 4.\n",
            " 4. 4. 4. 4. 4. 4. 4. 4. 4. 4. 4. 4. 4. 4. 4. 4. 4. 4. 4. 4. 4. 4. 4. 4.\n",
            " 4. 4. 4. 4. 4. 4. 4. 4. 4. 4. 4. 4. 4. 4. 4. 4. 4. 4. 4. 4. 4. 4. 4. 4.\n",
            " 4. 4. 4. 4. 4. 4. 4. 4. 4. 4. 4. 4. 4. 4. 4. 4. 4. 4. 4. 4. 4. 4. 4. 4.\n",
            " 4. 4. 4. 4. 4. 4. 4. 4. 4. 4. 4. 4. 4. 4. 4. 4. 4. 4. 4. 4. 4. 4. 4. 4.\n",
            " 4. 4. 4. 4. 4. 4. 4. 4. 4. 4. 4. 4. 4. 4. 4. 4. 4. 4. 4. 4. 4. 4. 4. 4.\n",
            " 4. 4. 4. 4. 4. 4. 4. 4. 4. 4. 4. 4. 4. 4. 4. 4. 4. 4. 4. 4. 4. 4. 4. 4.\n",
            " 4. 4. 4. 4. 4. 4. 4. 4. 4. 4. 4. 4. 4. 4. 4. 4. 4. 4. 4. 4. 4. 4. 4. 4.\n",
            " 4. 4. 4. 4. 4. 4. 4. 4. 4. 4. 4. 4. 4. 4. 4. 4. 4. 4. 4. 4. 4. 4. 4. 4.\n",
            " 4. 4. 4. 4. 4. 4. 4. 4. 4. 4. 4. 4. 4. 4. 4. 4. 4. 4. 4. 4. 4. 4. 4. 4.\n",
            " 4. 4. 4. 4. 4. 4. 4. 4. 4. 4. 4. 4. 4. 4. 4. 4. 4. 4. 4. 4. 4. 4. 4. 4.\n",
            " 4. 4. 4. 4. 4. 4. 4. 4. 4. 4. 4. 4. 4. 4. 4. 4. 4. 4. 4. 4. 4. 4. 4. 4.\n",
            " 4. 4. 4. 4. 4. 4. 4. 4. 4. 4. 4. 4. 4. 4. 4. 4. 4. 4. 4. 4. 4. 4. 4. 4.\n",
            " 4. 4. 4. 4. 4. 4. 4. 4. 4. 4. 4. 4. 4. 4. 4. 4. 4. 4. 4. 4. 4. 4. 4. 4.\n",
            " 4. 4. 4. 4. 4. 4. 4. 4. 4. 4. 4. 4. 4. 4. 4. 4. 4. 4. 4. 4. 4. 4. 4. 4.\n",
            " 4. 4. 4. 4. 4. 4. 4. 4. 4. 4. 4. 4. 4. 4. 4. 4. 4. 4. 4. 4. 4. 4. 4. 4.\n",
            " 4. 4. 4. 4. 4. 4. 4. 4. 4. 4. 4. 4. 4. 4. 4. 4. 4. 4. 4. 4. 4. 4. 4. 4.\n",
            " 4. 4. 4. 4. 4. 4. 4. 4. 4. 4. 4. 4. 4. 4. 4. 4. 4. 4. 4. 4. 4. 4. 4. 4.\n",
            " 4. 4. 4. 4. 4. 4. 4. 4. 4. 4. 4. 4. 4. 4. 4. 4. 4. 4. 4. 4. 4. 4. 4. 4.\n",
            " 4. 4. 4. 4. 4. 4. 4. 4. 4. 4. 4. 4. 4. 4. 4. 4. 4. 4. 4. 4. 4. 4. 4. 4.\n",
            " 4. 4. 4. 4. 4. 4. 4. 4. 4. 4. 4. 4. 4. 4. 4. 4. 4. 4. 4. 4. 4. 4. 4. 4.\n",
            " 4. 4. 4. 4. 4. 4. 4. 4. 4. 4. 4. 4. 4. 4. 4. 4. 4. 4. 4. 4. 4. 4. 4. 4.\n",
            " 4. 4. 4. 4. 4. 4. 4. 4. 4. 4. 4. 4. 4. 4. 4. 4. 4. 4. 4. 4. 4. 4. 4. 4.\n",
            " 4. 4. 4. 4. 4. 4. 4. 4. 4. 4. 4. 4. 4. 4. 4. 4. 4. 4. 4. 4. 4. 4. 4. 4.\n",
            " 4. 4. 4. 4. 4. 4. 4. 4. 4. 4. 4. 4. 4. 4. 4. 4. 4. 4. 4. 4. 4. 4. 4. 4.\n",
            " 4. 4. 4. 4. 4. 4. 4. 4. 4. 4. 4. 4. 4. 4. 4. 4. 4. 4. 4. 4. 4. 4. 4. 4.\n",
            " 4. 4. 4. 4. 4. 4. 4. 4. 4. 4. 4. 4. 4. 4. 4. 4. 4. 4. 4. 4. 4. 4. 4. 4.\n",
            " 4. 4. 4. 4. 4. 4. 4. 4. 4. 4. 4. 4. 4. 4. 4. 4. 4. 4. 4. 4. 4. 4. 4. 4.\n",
            " 4. 4. 4. 4. 4. 4. 4. 4. 4. 4. 4. 4. 4. 4. 4. 4. 4. 4. 4. 4. 4. 4. 4. 4.\n",
            " 4. 4. 4. 4. 4. 4. 4. 4. 4. 4. 4. 4. 4. 4. 4. 4. 4. 4. 4. 4. 4. 4. 4. 4.\n",
            " 4. 4. 4. 4. 4. 4. 4. 4. 4. 4. 4. 4. 4. 4. 4. 4. 4. 4. 4. 4. 4. 4. 4. 4.\n",
            " 4. 4. 4. 4. 4. 4. 4. 4.]\n"
          ]
        }
      ]
    },
    {
      "cell_type": "code",
      "source": [
        "len(race_0)"
      ],
      "metadata": {
        "colab": {
          "base_uri": "https://localhost:8080/"
        },
        "id": "cr8xCZtPYGjY",
        "outputId": "0b24bfe4-2df8-41cb-cd5a-dc4f915c5246"
      },
      "execution_count": 17,
      "outputs": [
        {
          "output_type": "execute_result",
          "data": {
            "text/plain": [
              "10"
            ]
          },
          "metadata": {},
          "execution_count": 17
        }
      ]
    },
    {
      "cell_type": "code",
      "source": [
        "len(race_1)"
      ],
      "metadata": {
        "colab": {
          "base_uri": "https://localhost:8080/"
        },
        "id": "yTde_P1Qdnxz",
        "outputId": "addb5dc4-f129-41da-91d2-1569cea66960"
      },
      "execution_count": 18,
      "outputs": [
        {
          "output_type": "execute_result",
          "data": {
            "text/plain": [
              "27"
            ]
          },
          "metadata": {},
          "execution_count": 18
        }
      ]
    },
    {
      "cell_type": "code",
      "source": [
        "len(race_2)"
      ],
      "metadata": {
        "colab": {
          "base_uri": "https://localhost:8080/"
        },
        "id": "kna2Aeazdpaf",
        "outputId": "462d8bf0-3630-4508-febe-07669bbc1de4"
      },
      "execution_count": 19,
      "outputs": [
        {
          "output_type": "execute_result",
          "data": {
            "text/plain": [
              "110"
            ]
          },
          "metadata": {},
          "execution_count": 19
        }
      ]
    },
    {
      "cell_type": "code",
      "source": [],
      "metadata": {
        "id": "g52WQ_G4kvHS"
      },
      "execution_count": 19,
      "outputs": []
    },
    {
      "cell_type": "code",
      "source": [
        "len(race_3)"
      ],
      "metadata": {
        "colab": {
          "base_uri": "https://localhost:8080/"
        },
        "id": "MaL77XNldrBm",
        "outputId": "27783579-a4b7-4df8-c4e6-eb7913c64cbc"
      },
      "execution_count": 20,
      "outputs": [
        {
          "output_type": "execute_result",
          "data": {
            "text/plain": [
              "6"
            ]
          },
          "metadata": {},
          "execution_count": 20
        }
      ]
    },
    {
      "cell_type": "code",
      "source": [
        "len(race_4)"
      ],
      "metadata": {
        "colab": {
          "base_uri": "https://localhost:8080/"
        },
        "id": "XTD_bpmZdsou",
        "outputId": "d6e5bf76-a471-472f-f355-8cff40a08dbf"
      },
      "execution_count": 21,
      "outputs": [
        {
          "output_type": "execute_result",
          "data": {
            "text/plain": [
              "848"
            ]
          },
          "metadata": {},
          "execution_count": 21
        }
      ]
    },
    {
      "cell_type": "code",
      "source": [],
      "metadata": {
        "id": "butZqYZJduxc"
      },
      "execution_count": 21,
      "outputs": []
    },
    {
      "cell_type": "markdown",
      "source": [
        "### Race 3 which 'other' is minority community in this country "
      ],
      "metadata": {
        "id": "S8CIG5apd3Bi"
      }
    },
    {
      "cell_type": "code",
      "source": [
        "sc = age>60\n",
        "senior_citizen=(data[:][sc])\n",
        "senior_citizen"
      ],
      "metadata": {
        "colab": {
          "base_uri": "https://localhost:8080/"
        },
        "id": "b7YhbfCveAYA",
        "outputId": "11481e91-6e1a-4623-a3bc-4a84f47f4063"
      },
      "execution_count": 22,
      "outputs": [
        {
          "output_type": "execute_result",
          "data": {
            "text/plain": [
              "array([[7.9000e+01, 1.0000e+01, 4.0000e+00, 1.0000e+00, 0.0000e+00,\n",
              "        0.0000e+00, 2.0000e+01, 0.0000e+00],\n",
              "       [6.7000e+01, 6.0000e+00, 4.0000e+00, 1.0000e+00, 0.0000e+00,\n",
              "        0.0000e+00, 2.0000e+00, 0.0000e+00],\n",
              "       [7.6000e+01, 1.4000e+01, 4.0000e+00, 1.0000e+00, 0.0000e+00,\n",
              "        0.0000e+00, 4.0000e+01, 1.0000e+00],\n",
              "       [6.1000e+01, 9.0000e+00, 4.0000e+00, 1.0000e+00, 0.0000e+00,\n",
              "        0.0000e+00, 4.0000e+01, 0.0000e+00],\n",
              "       [7.0000e+01, 1.0000e+01, 4.0000e+00, 1.0000e+00, 0.0000e+00,\n",
              "        0.0000e+00, 4.0000e+01, 0.0000e+00],\n",
              "       [6.4000e+01, 7.0000e+00, 4.0000e+00, 1.0000e+00, 0.0000e+00,\n",
              "        2.1790e+03, 4.0000e+01, 0.0000e+00],\n",
              "       [7.1000e+01, 1.0000e+01, 2.0000e+00, 1.0000e+00, 0.0000e+00,\n",
              "        1.8160e+03, 2.0000e+00, 0.0000e+00],\n",
              "       [6.8000e+01, 2.0000e+00, 4.0000e+00, 0.0000e+00, 0.0000e+00,\n",
              "        0.0000e+00, 2.0000e+01, 0.0000e+00],\n",
              "       [6.6000e+01, 1.1000e+01, 4.0000e+00, 0.0000e+00, 0.0000e+00,\n",
              "        0.0000e+00, 2.0000e+01, 0.0000e+00],\n",
              "       [6.4000e+01, 2.0000e+00, 4.0000e+00, 1.0000e+00, 0.0000e+00,\n",
              "        0.0000e+00, 4.0000e+01, 0.0000e+00],\n",
              "       [9.0000e+01, 9.0000e+00, 2.0000e+00, 1.0000e+00, 0.0000e+00,\n",
              "        2.2060e+03, 4.0000e+01, 0.0000e+00],\n",
              "       [6.6000e+01, 9.0000e+00, 4.0000e+00, 1.0000e+00, 1.4090e+03,\n",
              "        0.0000e+00, 5.0000e+01, 0.0000e+00],\n",
              "       [7.5000e+01, 1.1000e+01, 4.0000e+00, 0.0000e+00, 0.0000e+00,\n",
              "        0.0000e+00, 2.0000e+01, 0.0000e+00],\n",
              "       [6.5000e+01, 9.0000e+00, 4.0000e+00, 0.0000e+00, 0.0000e+00,\n",
              "        0.0000e+00, 4.0000e+01, 0.0000e+00],\n",
              "       [6.4000e+01, 9.0000e+00, 4.0000e+00, 1.0000e+00, 0.0000e+00,\n",
              "        0.0000e+00, 4.0000e+01, 1.0000e+00],\n",
              "       [6.1000e+01, 9.0000e+00, 4.0000e+00, 1.0000e+00, 0.0000e+00,\n",
              "        0.0000e+00, 4.0000e+01, 1.0000e+00],\n",
              "       [6.5000e+01, 9.0000e+00, 4.0000e+00, 1.0000e+00, 0.0000e+00,\n",
              "        0.0000e+00, 1.6000e+01, 0.0000e+00],\n",
              "       [7.7000e+01, 1.0000e+01, 4.0000e+00, 1.0000e+00, 0.0000e+00,\n",
              "        0.0000e+00, 4.0000e+01, 0.0000e+00],\n",
              "       [6.2000e+01, 9.0000e+00, 4.0000e+00, 0.0000e+00, 0.0000e+00,\n",
              "        0.0000e+00, 2.4000e+01, 0.0000e+00],\n",
              "       [7.6000e+01, 1.4000e+01, 4.0000e+00, 1.0000e+00, 0.0000e+00,\n",
              "        0.0000e+00, 1.0000e+01, 0.0000e+00],\n",
              "       [6.3000e+01, 9.0000e+00, 4.0000e+00, 1.0000e+00, 0.0000e+00,\n",
              "        0.0000e+00, 4.5000e+01, 0.0000e+00],\n",
              "       [6.6000e+01, 9.0000e+00, 4.0000e+00, 1.0000e+00, 2.0500e+03,\n",
              "        0.0000e+00, 5.5000e+01, 0.0000e+00],\n",
              "       [6.7000e+01, 7.0000e+00, 4.0000e+00, 1.0000e+00, 0.0000e+00,\n",
              "        0.0000e+00, 8.0000e+00, 0.0000e+00],\n",
              "       [6.5000e+01, 7.0000e+00, 3.0000e+00, 1.0000e+00, 0.0000e+00,\n",
              "        0.0000e+00, 4.0000e+01, 0.0000e+00],\n",
              "       [6.2000e+01, 1.4000e+01, 4.0000e+00, 1.0000e+00, 0.0000e+00,\n",
              "        0.0000e+00, 4.0000e+01, 1.0000e+00],\n",
              "       [6.3000e+01, 9.0000e+00, 4.0000e+00, 1.0000e+00, 0.0000e+00,\n",
              "        0.0000e+00, 4.0000e+01, 1.0000e+00],\n",
              "       [8.0000e+01, 9.0000e+00, 4.0000e+00, 1.0000e+00, 0.0000e+00,\n",
              "        0.0000e+00, 2.4000e+01, 0.0000e+00],\n",
              "       [6.7000e+01, 1.1000e+01, 4.0000e+00, 0.0000e+00, 0.0000e+00,\n",
              "        0.0000e+00, 2.4000e+01, 0.0000e+00],\n",
              "       [6.3000e+01, 2.0000e+00, 4.0000e+00, 1.0000e+00, 0.0000e+00,\n",
              "        0.0000e+00, 3.5000e+01, 0.0000e+00],\n",
              "       [7.2000e+01, 9.0000e+00, 4.0000e+00, 1.0000e+00, 0.0000e+00,\n",
              "        0.0000e+00, 2.0000e+01, 0.0000e+00],\n",
              "       [6.2000e+01, 9.0000e+00, 4.0000e+00, 1.0000e+00, 0.0000e+00,\n",
              "        0.0000e+00, 4.0000e+01, 0.0000e+00],\n",
              "       [7.4000e+01, 1.0000e+01, 4.0000e+00, 0.0000e+00, 0.0000e+00,\n",
              "        0.0000e+00, 9.0000e+00, 0.0000e+00],\n",
              "       [6.7000e+01, 1.5000e+01, 4.0000e+00, 1.0000e+00, 2.0051e+04,\n",
              "        0.0000e+00, 4.8000e+01, 1.0000e+00],\n",
              "       [7.2000e+01, 7.0000e+00, 4.0000e+00, 0.0000e+00, 0.0000e+00,\n",
              "        0.0000e+00, 4.0000e+01, 0.0000e+00],\n",
              "       [6.9000e+01, 7.0000e+00, 4.0000e+00, 0.0000e+00, 0.0000e+00,\n",
              "        0.0000e+00, 4.0000e+01, 0.0000e+00],\n",
              "       [6.5000e+01, 1.0000e+01, 4.0000e+00, 1.0000e+00, 0.0000e+00,\n",
              "        0.0000e+00, 3.0000e+01, 1.0000e+00],\n",
              "       [6.5000e+01, 5.0000e+00, 2.0000e+00, 0.0000e+00, 0.0000e+00,\n",
              "        0.0000e+00, 2.4000e+01, 0.0000e+00],\n",
              "       [7.1000e+01, 9.0000e+00, 4.0000e+00, 1.0000e+00, 0.0000e+00,\n",
              "        0.0000e+00, 1.5000e+01, 0.0000e+00],\n",
              "       [7.0000e+01, 5.0000e+00, 4.0000e+00, 0.0000e+00, 1.1110e+03,\n",
              "        0.0000e+00, 1.5000e+01, 0.0000e+00],\n",
              "       [6.6000e+01, 4.0000e+00, 4.0000e+00, 1.0000e+00, 0.0000e+00,\n",
              "        0.0000e+00, 4.0000e+00, 0.0000e+00],\n",
              "       [6.5000e+01, 7.0000e+00, 4.0000e+00, 1.0000e+00, 9.3860e+03,\n",
              "        0.0000e+00, 5.9000e+01, 1.0000e+00],\n",
              "       [6.1000e+01, 9.0000e+00, 4.0000e+00, 1.0000e+00, 0.0000e+00,\n",
              "        2.3520e+03, 5.0000e+01, 0.0000e+00],\n",
              "       [6.1000e+01, 9.0000e+00, 4.0000e+00, 1.0000e+00, 0.0000e+00,\n",
              "        0.0000e+00, 4.0000e+01, 0.0000e+00],\n",
              "       [6.8000e+01, 7.0000e+00, 4.0000e+00, 1.0000e+00, 0.0000e+00,\n",
              "        0.0000e+00, 2.0000e+01, 0.0000e+00],\n",
              "       [6.4000e+01, 1.3000e+01, 4.0000e+00, 1.0000e+00, 0.0000e+00,\n",
              "        0.0000e+00, 4.0000e+01, 1.0000e+00],\n",
              "       [6.4000e+01, 9.0000e+00, 4.0000e+00, 1.0000e+00, 0.0000e+00,\n",
              "        0.0000e+00, 4.5000e+01, 0.0000e+00],\n",
              "       [6.2000e+01, 9.0000e+00, 4.0000e+00, 0.0000e+00, 0.0000e+00,\n",
              "        0.0000e+00, 4.0000e+01, 0.0000e+00],\n",
              "       [7.3000e+01, 9.0000e+00, 4.0000e+00, 1.0000e+00, 0.0000e+00,\n",
              "        0.0000e+00, 4.0000e+01, 0.0000e+00],\n",
              "       [7.2000e+01, 7.0000e+00, 4.0000e+00, 0.0000e+00, 0.0000e+00,\n",
              "        0.0000e+00, 2.4000e+01, 0.0000e+00],\n",
              "       [6.3000e+01, 9.0000e+00, 4.0000e+00, 1.0000e+00, 0.0000e+00,\n",
              "        0.0000e+00, 6.0000e+00, 0.0000e+00],\n",
              "       [6.2000e+01, 1.3000e+01, 4.0000e+00, 0.0000e+00, 0.0000e+00,\n",
              "        0.0000e+00, 4.8000e+01, 0.0000e+00],\n",
              "       [6.1000e+01, 1.4000e+01, 4.0000e+00, 0.0000e+00, 0.0000e+00,\n",
              "        0.0000e+00, 4.0000e+01, 1.0000e+00],\n",
              "       [7.1000e+01, 1.4000e+01, 4.0000e+00, 1.0000e+00, 1.0605e+04,\n",
              "        0.0000e+00, 4.0000e+01, 1.0000e+00],\n",
              "       [6.3000e+01, 1.0000e+01, 4.0000e+00, 1.0000e+00, 0.0000e+00,\n",
              "        0.0000e+00, 1.5000e+01, 0.0000e+00],\n",
              "       [6.3000e+01, 4.0000e+00, 4.0000e+00, 1.0000e+00, 0.0000e+00,\n",
              "        0.0000e+00, 5.5000e+01, 0.0000e+00],\n",
              "       [6.7000e+01, 9.0000e+00, 1.0000e+00, 1.0000e+00, 0.0000e+00,\n",
              "        0.0000e+00, 4.0000e+01, 1.0000e+00],\n",
              "       [8.1000e+01, 9.0000e+00, 4.0000e+00, 1.0000e+00, 0.0000e+00,\n",
              "        0.0000e+00, 3.0000e+01, 0.0000e+00],\n",
              "       [6.4000e+01, 9.0000e+00, 4.0000e+00, 1.0000e+00, 0.0000e+00,\n",
              "        0.0000e+00, 5.0000e+00, 0.0000e+00],\n",
              "       [6.7000e+01, 1.3000e+01, 4.0000e+00, 1.0000e+00, 0.0000e+00,\n",
              "        2.3920e+03, 4.0000e+01, 1.0000e+00],\n",
              "       [7.8000e+01, 9.0000e+00, 2.0000e+00, 0.0000e+00, 2.9640e+03,\n",
              "        0.0000e+00, 4.0000e+01, 0.0000e+00],\n",
              "       [6.3000e+01, 1.1000e+01, 4.0000e+00, 0.0000e+00, 0.0000e+00,\n",
              "        0.0000e+00, 2.0000e+01, 0.0000e+00]])"
            ]
          },
          "metadata": {},
          "execution_count": 22
        }
      ]
    },
    {
      "cell_type": "code",
      "source": [
        "working_hr=senior_citizen[:6]\n",
        "working_hr"
      ],
      "metadata": {
        "colab": {
          "base_uri": "https://localhost:8080/"
        },
        "id": "oIDBlB1Knqtz",
        "outputId": "e8c53776-c2c6-45e6-cd92-593a24b2df3d"
      },
      "execution_count": 23,
      "outputs": [
        {
          "output_type": "execute_result",
          "data": {
            "text/plain": [
              "array([[7.900e+01, 1.000e+01, 4.000e+00, 1.000e+00, 0.000e+00, 0.000e+00,\n",
              "        2.000e+01, 0.000e+00],\n",
              "       [6.700e+01, 6.000e+00, 4.000e+00, 1.000e+00, 0.000e+00, 0.000e+00,\n",
              "        2.000e+00, 0.000e+00],\n",
              "       [7.600e+01, 1.400e+01, 4.000e+00, 1.000e+00, 0.000e+00, 0.000e+00,\n",
              "        4.000e+01, 1.000e+00],\n",
              "       [6.100e+01, 9.000e+00, 4.000e+00, 1.000e+00, 0.000e+00, 0.000e+00,\n",
              "        4.000e+01, 0.000e+00],\n",
              "       [7.000e+01, 1.000e+01, 4.000e+00, 1.000e+00, 0.000e+00, 0.000e+00,\n",
              "        4.000e+01, 0.000e+00],\n",
              "       [6.400e+01, 7.000e+00, 4.000e+00, 1.000e+00, 0.000e+00, 2.179e+03,\n",
              "        4.000e+01, 0.000e+00]])"
            ]
          },
          "metadata": {},
          "execution_count": 23
        }
      ]
    },
    {
      "cell_type": "code",
      "source": [
        "working_hr_sum=np.sum(working_hr)\n",
        "working_hr_sum\n"
      ],
      "metadata": {
        "colab": {
          "base_uri": "https://localhost:8080/"
        },
        "id": "d_tk2eBionAQ",
        "outputId": "c3ba07f8-b591-408e-ae37-16bd8fe0c1c5"
      },
      "execution_count": 24,
      "outputs": [
        {
          "output_type": "execute_result",
          "data": {
            "text/plain": [
              "2865.0"
            ]
          },
          "metadata": {},
          "execution_count": 24
        }
      ]
    },
    {
      "cell_type": "markdown",
      "source": [],
      "metadata": {
        "id": "DwTIiyZGyaqe"
      }
    },
    {
      "cell_type": "code",
      "source": [
        "len(senior_citizen[:,0])"
      ],
      "metadata": {
        "colab": {
          "base_uri": "https://localhost:8080/"
        },
        "id": "8mQS3hj3ovMc",
        "outputId": "b1432c10-c187-4936-f9be-beb775397647"
      },
      "execution_count": 25,
      "outputs": [
        {
          "output_type": "execute_result",
          "data": {
            "text/plain": [
              "61"
            ]
          },
          "metadata": {},
          "execution_count": 25
        }
      ]
    },
    {
      "cell_type": "code",
      "source": [
        "avg_working_hr=working_hr_sum/len(senior_citizen[:,0])\n",
        "avg_working_hr"
      ],
      "metadata": {
        "colab": {
          "base_uri": "https://localhost:8080/"
        },
        "id": "uJ6wKkF4o_KS",
        "outputId": "841950cf-89d8-4b3e-dbef-bffeb31723f5"
      },
      "execution_count": 26,
      "outputs": [
        {
          "output_type": "execute_result",
          "data": {
            "text/plain": [
              "46.967213114754095"
            ]
          },
          "metadata": {},
          "execution_count": 26
        }
      ]
    },
    {
      "cell_type": "code",
      "source": [
        "edu = data[:,1]\n",
        "edu\n"
      ],
      "metadata": {
        "colab": {
          "base_uri": "https://localhost:8080/"
        },
        "id": "5OPVr5fW20ZM",
        "outputId": "f21ca6f4-d262-4df9-873d-effc426c40ab"
      },
      "execution_count": 27,
      "outputs": [
        {
          "output_type": "execute_result",
          "data": {
            "text/plain": [
              "array([13., 13.,  9., ..., 10., 13.,  9.])"
            ]
          },
          "metadata": {},
          "execution_count": 27
        }
      ]
    },
    {
      "cell_type": "code",
      "source": [
        "high = edu[edu > 10]\n",
        "low = edu[edu <= 10]\n",
        "print(high)"
      ],
      "metadata": {
        "colab": {
          "base_uri": "https://localhost:8080/"
        },
        "id": "s7touPuAEqmX",
        "outputId": "c67c014f-396d-4c12-cfab-918554c1de85"
      },
      "execution_count": 28,
      "outputs": [
        {
          "output_type": "stream",
          "name": "stdout",
          "text": [
            "[13. 13. 13. 14. 14. 13. 13. 13. 12. 11. 14. 16. 13. 12. 13. 12. 13. 13.\n",
            " 13. 14. 11. 11. 15. 13. 11. 13. 16. 13. 13. 12. 13. 14. 16. 11. 13. 16.\n",
            " 12. 14. 13. 14. 13. 15. 11. 13. 13. 13. 13. 12. 12. 13. 12. 14. 11. 11.\n",
            " 13. 13. 13. 14. 14. 12. 14. 11. 13. 13. 13. 13. 13. 14. 16. 13. 13. 14.\n",
            " 14. 14. 13. 13. 13. 12. 13. 13. 11. 15. 13. 14. 13. 12. 12. 15. 13. 11.\n",
            " 13. 13. 14. 14. 13. 12. 13. 14. 15. 13. 13. 13. 13. 13. 14. 13. 12. 12.\n",
            " 12. 13. 14. 13. 14. 11. 13. 11. 14. 12. 11. 13. 11. 12. 13. 13. 13. 13.\n",
            " 11. 14. 13. 13. 12. 13. 11. 14. 13. 12. 13. 13. 13. 13. 11. 14. 16. 13.\n",
            " 14. 14. 13. 12. 14. 13. 12. 11. 12. 13. 13. 14. 13. 11. 13. 12. 13. 13.\n",
            " 13. 12. 13. 13. 13. 11. 11. 11. 13. 13. 13. 14. 12. 15. 11. 13. 16. 11.\n",
            " 13. 13. 13. 14. 14. 11. 16. 13. 12. 13. 13. 13. 13. 13. 15. 13. 13. 12.\n",
            " 14. 14. 13. 13. 13. 15. 13. 11. 13. 13. 13. 13. 16. 16. 13. 16. 14. 14.\n",
            " 12. 13. 11. 13. 14. 13. 12. 14. 14. 13. 13. 13. 16. 13. 13. 13. 11. 13.\n",
            " 13. 13. 13. 13. 11. 11. 13. 13. 14. 11. 13. 13. 13. 13. 11. 13. 16. 13.\n",
            " 13. 11. 11. 14. 13. 11. 11. 13. 11. 13. 14. 13. 12. 14. 13. 13. 11. 11.\n",
            " 14. 11. 13. 13. 13. 13. 13. 13. 14. 11. 13. 16. 13. 13. 13. 13. 14. 13.\n",
            " 13. 11. 13. 13. 13. 11. 13. 11. 13. 15. 14. 13. 13. 12. 13. 13. 14. 14.\n",
            " 14. 15. 13. 12. 13. 14. 13. 12. 13. 13. 11. 13. 13. 14. 12. 11. 13. 11.\n",
            " 14. 13. 13.]\n"
          ]
        }
      ]
    },
    {
      "cell_type": "code",
      "source": [
        "print(low)"
      ],
      "metadata": {
        "colab": {
          "base_uri": "https://localhost:8080/"
        },
        "id": "_JC9hn6xE_kh",
        "outputId": "34849da8-46ec-48cd-fa48-c52330d6413e"
      },
      "execution_count": 29,
      "outputs": [
        {
          "output_type": "stream",
          "name": "stdout",
          "text": [
            "[ 9.  7.  5.  9. 10.  4.  9.  9.  7.  9.  5.  7.  9.  9. 10.  9.  9. 10.\n",
            " 10. 10.  7. 10.  9. 10.  5.  9.  9.  9. 10.  9.  9. 10.  3.  9.  9.  4.\n",
            "  9. 10.  9. 10.  9. 10. 10. 10. 10. 10.  9.  6.  7.  4.  9.  9.  9.  9.\n",
            "  9.  9.  5. 10. 10.  9. 10. 10.  9. 10.  9.  9.  6.  7.  9.  9.  9. 10.\n",
            "  9.  5. 10. 10.  9. 10. 10. 10.  9. 10.  9.  9.  9. 10. 10.  9. 10. 10.\n",
            " 10.  9. 10.  9.  7. 10. 10.  9.  9.  9.  9. 10.  9.  2.  9.  9. 10.  7.\n",
            "  9.  9. 10.  9.  9.  9.  9. 10. 10. 10.  4. 10.  9. 10. 10. 10.  3. 10.\n",
            "  9.  9. 10.  9.  7.  9.  9.  7.  9.  9. 10.  9.  4.  6. 10.  2.  9.  9.\n",
            "  1.  9.  6.  9.  9.  7.  9. 10. 10.  9. 10.  9.  9. 10. 10.  9.  9.  9.\n",
            "  9.  6. 10. 10.  9.  9.  9.  4.  9.  7. 10.  7. 10. 10.  9.  9.  9.  5.\n",
            "  9.  9. 10. 10. 10. 10. 10.  9. 10.  4.  9. 10.  9.  9.  9. 10.  9.  9.\n",
            " 10.  9. 10. 10. 10. 10. 10.  3. 10.  9.  9. 10.  9.  7.  9. 10.  9.  9.\n",
            " 10.  6.  9.  3.  9.  9.  9.  9.  9. 10.  7.  9.  7.  9.  7.  9.  5.  6.\n",
            "  9.  9. 10.  9. 10.  7.  9.  9. 10.  9. 10.  9.  9.  3. 10. 10. 10.  9.\n",
            "  9. 10. 10.  9.  9.  9. 10. 10.  9. 10. 10.  4.  9.  9. 10. 10. 10.  9.\n",
            " 10. 10.  8.  2.  7.  7.  9. 10.  7.  9.  6.  9.  9.  9.  9.  7. 10.  9.\n",
            " 10. 10. 10.  9.  9. 10.  5. 10.  9.  9.  9.  7.  9. 10.  9.  9.  9. 10.\n",
            "  9. 10.  9.  2.  9.  9. 10. 10. 10.  9.  9.  5. 10.  6.  9. 10.  9.  8.\n",
            " 10.  2.  9.  9.  9.  9.  9. 10.  3. 10.  9.  9.  9. 10. 10. 10. 10.  9.\n",
            "  9.  3. 10.  9. 10. 10. 10.  9. 10. 10. 10. 10. 10.  9.  7.  9.  9.  8.\n",
            "  2.  9. 10. 10.  9. 10.  9.  6. 10.  9. 10. 10.  9.  7.  9.  7.  9.  9.\n",
            "  9.  7. 10.  9.  9.  4.  9.  9.  9.  7.  8. 10. 10.  9.  9.  9. 10. 10.\n",
            "  7.  6.  9.  9.  4.  9. 10. 10. 10.  4.  5.  9.  9.  9.  6.  9.  9.  9.\n",
            "  9.  9.  7.  5.  5.  9.  9.  9. 10. 10.  6. 10.  9.  9.  3.  9.  9. 10.\n",
            " 10. 10.  9.  9.  9. 10.  9. 10.  9. 10.  5.  9.  4.  9.  8. 10. 10. 10.\n",
            "  9.  7.  5. 10.  7.  7.  9.  9.  8. 10.  9.  9.  9.  9. 10.  7.  9.  4.\n",
            "  9. 10. 10. 10. 10.  9. 10. 10.  8. 10.  9.  7. 10.  9.  9.  9. 10.  9.\n",
            "  9.  9.  9. 10.  9.  7. 10. 10. 10. 10. 10.  9. 10.  9.  8.  9. 10.  7.\n",
            "  6.  9.  9.  9.  9.  9.  9.  9.  9.  6. 10. 10.  9. 10.  3.  9.  9. 10.\n",
            " 10. 10. 10. 10.  9.  8.  9.  9. 10.  9.  9. 10.  9.  9.  9.  7.  9.  7.\n",
            "  9.  9.  9. 10. 10. 10.  6.  9. 10.  9.  9.  9.  9.  9.  9.  9. 10.  7.\n",
            " 10. 10.  9.  7.  9.  9.  9.  7. 10. 10.  9. 10.  9.  9.  9.  9.  9.  9.\n",
            "  7.  9.  7. 10.  9. 10.  6.  7. 10. 10.  3.  9.  9.  9.  5.  9. 10. 10.\n",
            " 10.  9. 10. 10.  9.  4.  5.  9.  9.  9. 10.  9. 10.  9. 10.  6. 10.  9.\n",
            "  9.  9. 10. 10. 10.  3. 10.  9.  9.  9. 10.  2.  9. 10.  1.  9.  7.  9.\n",
            "  9.  9.  9.  9.  9. 10. 10. 10. 10.  9.  4.  9. 10.  6. 10.  6. 10.  9.\n",
            "  6.  9.  9. 10.  9.  9.  9.  9. 10. 10.  9.  9.  9.  9.  9.  9.  9.  9.\n",
            "  9. 10.  9.  9.  9.  9. 10.  9.]\n"
          ]
        }
      ]
    },
    {
      "cell_type": "code",
      "source": [
        "income = data[:,7]\n",
        "avg_pay_high = np.mean(income[edu > 10])\n",
        "print(avg_pay_high)"
      ],
      "metadata": {
        "colab": {
          "base_uri": "https://localhost:8080/"
        },
        "id": "fu0UzxNfFCbT",
        "outputId": "5161aca5-f30a-4e7a-9428-30de6d8bd0eb"
      },
      "execution_count": 30,
      "outputs": [
        {
          "output_type": "stream",
          "name": "stdout",
          "text": [
            "0.42813455657492355\n"
          ]
        }
      ]
    },
    {
      "cell_type": "code",
      "source": [
        "avg_pay_low = np.mean(income[edu<=10])\n",
        "print(avg_pay_low)"
      ],
      "metadata": {
        "colab": {
          "base_uri": "https://localhost:8080/"
        },
        "id": "xXEP-PZhH58F",
        "outputId": "9ff86964-fbf3-403e-e531-1eb13a1e49c4"
      },
      "execution_count": 31,
      "outputs": [
        {
          "output_type": "stream",
          "name": "stdout",
          "text": [
            "0.13649851632047477\n"
          ]
        }
      ]
    },
    {
      "cell_type": "markdown",
      "source": [
        "# Numpy Project"
      ],
      "metadata": {
        "id": "EbMZRs_jWixC"
      }
    },
    {
      "cell_type": "code",
      "source": [
        "from google.colab import drive\n",
        "drive.mount('/content/drive/')\n",
        "import pandas as pd \n",
        "import numpy as np"
      ],
      "metadata": {
        "id": "d0YtICgGLJSU",
        "colab": {
          "base_uri": "https://localhost:8080/"
        },
        "outputId": "bdbe74cf-a5ff-40bf-df89-30a6b1ee9484"
      },
      "execution_count": 32,
      "outputs": [
        {
          "output_type": "stream",
          "name": "stdout",
          "text": [
            "Drive already mounted at /content/drive/; to attempt to forcibly remount, call drive.mount(\"/content/drive/\", force_remount=True).\n"
          ]
        }
      ]
    },
    {
      "cell_type": "code",
      "source": [
        "data_file ='/content/drive/My Drive/KAG_Conversion_Data.csv'"
      ],
      "metadata": {
        "id": "Qh_CtYmEWzQT"
      },
      "execution_count": 54,
      "outputs": []
    },
    {
      "cell_type": "code",
      "source": [
        "data = np.genfromtxt(data_file , delimiter = \",\", skip_header = 1)\n",
        "data1 = np.genfromtxt(data_file, delimiter = \",\" , dtype = 'str' , skip_header = 1)\n",
        "data1"
      ],
      "metadata": {
        "colab": {
          "base_uri": "https://localhost:8080/"
        },
        "id": "yMHxSX9sXFA_",
        "outputId": "1261de5d-ea6a-43f1-df10-bff07db0409e"
      },
      "execution_count": 56,
      "outputs": [
        {
          "output_type": "execute_result",
          "data": {
            "text/plain": [
              "array([['708746', '916', '103916', ..., '1.429999948', '2', '1'],\n",
              "       ['708749', '916', '103917', ..., '1.820000023', '2', '0'],\n",
              "       ['708771', '916', '103920', ..., '0', '1', '0'],\n",
              "       ...,\n",
              "       ['1314412', '1178', '179979', ..., '40.28999949', '2', '0'],\n",
              "       ['1314414', '1178', '179981', ..., '198.7100005', '8', '2'],\n",
              "       ['1314415', '1178', '179982', ..., '165.6099987', '5', '2']],\n",
              "      dtype='<U11')"
            ]
          },
          "metadata": {},
          "execution_count": 56
        }
      ]
    },
    {
      "cell_type": "code",
      "source": [
        "xyz_camp = data1[:,1]\n",
        "xyz_uni = np.unique(xyz_camp)\n",
        "print(\"unique ad campaingn's of xyzcapaignid:\" ,xyz_uni.size, xyz_uni)"
      ],
      "metadata": {
        "colab": {
          "base_uri": "https://localhost:8080/"
        },
        "id": "HbiBGnZ1XQL1",
        "outputId": "5462b5a8-8f62-457e-d463-751ec662c8a7"
      },
      "execution_count": 45,
      "outputs": [
        {
          "output_type": "stream",
          "name": "stdout",
          "text": [
            "unique ad campaingn's of xyzcapaignid: 3 ['1178' '916' '936']\n"
          ]
        }
      ]
    },
    {
      "cell_type": "code",
      "source": [
        "for i in xyz_uni:\n",
        "  count = np.count_nonzero(xyz_camp ==i)\n",
        "  print(\"cont of\" +str(i) + \":\" ,count)"
      ],
      "metadata": {
        "colab": {
          "base_uri": "https://localhost:8080/"
        },
        "id": "qLqz_-i2X5lB",
        "outputId": "7ee8e82f-954c-42f8-ee08-bfa7fe8a1628"
      },
      "execution_count": 46,
      "outputs": [
        {
          "output_type": "stream",
          "name": "stdout",
          "text": [
            "cont of1178: 625\n",
            "cont of916: 54\n",
            "cont of936: 464\n"
          ]
        }
      ]
    },
    {
      "cell_type": "code",
      "source": [
        "age = data1[:,3]\n",
        "age_groups = np.unique(age)\n",
        "print(\"The age groups that were targeted through these ad campaigns\")\n",
        "for i in age_groups:\n",
        "  print(i , end=\",\")"
      ],
      "metadata": {
        "colab": {
          "base_uri": "https://localhost:8080/"
        },
        "id": "HzEvBseHZuPj",
        "outputId": "54d03ddf-ed9c-454f-8532-7a1ef471e104"
      },
      "execution_count": 47,
      "outputs": [
        {
          "output_type": "stream",
          "name": "stdout",
          "text": [
            "The age groups that were targeted through these ad campaigns\n",
            "30-34,35-39,40-44,45-49,"
          ]
        }
      ]
    },
    {
      "cell_type": "code",
      "source": [
        "clicks = data1[:,7]\n",
        "Id_ad = data1[:, :1]\n",
        "max_ad_id = np.extract(clicks ==max(clicks), Id_ad)\n",
        "print(\"The id of the ad having the maximum number of clicks:\" , max_ad_id[0])"
      ],
      "metadata": {
        "colab": {
          "base_uri": "https://localhost:8080/"
        },
        "id": "nNcT5vHqaXTr",
        "outputId": "d46324c6-2220-4947-b66f-f4ee1b6c45b5"
      },
      "execution_count": 49,
      "outputs": [
        {
          "output_type": "stream",
          "name": "stdout",
          "text": [
            "The id of the ad having the maximum number of clicks: 1121756\n"
          ]
        }
      ]
    },
    {
      "cell_type": "code",
      "source": [
        "spend = data[:,8]\n",
        "spend_min = np.min(spend)\n",
        "spend_max = np.max(spend)\n",
        "spend_avg = (spend_min + spend_max)/2\n",
        "print(\"The avg , minimum amount:\", str(spend_min)+ \"\\n and maximum amount\" +str(spend_max)+ \"\\n spent on the ads\", spend_avg)"
      ],
      "metadata": {
        "colab": {
          "base_uri": "https://localhost:8080/"
        },
        "id": "wnzG47fgby3z",
        "outputId": "15413e9b-7471-448a-b293-ce6828b0de2d"
      },
      "execution_count": 57,
      "outputs": [
        {
          "output_type": "stream",
          "name": "stdout",
          "text": [
            "The avg , minimum amount: 0.0\n",
            " and maximum amount639.9499981\n",
            " spent on the ads 319.97499905\n"
          ]
        }
      ]
    },
    {
      "cell_type": "code",
      "source": [
        "Approved_Conversion = data[: , 10]\n",
        "most_clicks = max(clicks)\n",
        "# print most clicks\n",
        "people_bought = np.extract(clicks == max(clicks) , Approved_Conversion)\n",
        "print(\"No odf people bought the product after seeing the ad with most clicks:\" ,people_bought[0])\n",
        "max_purchase = max(Approved_Conversion)\n",
        "\n",
        "print(\"\\n Maximum number of purchaes\" ,max_purchase)\n",
        "\n",
        "if most_clicks == max_purchase:\n",
        "  print(\"\\n Most purchase have the maximum number of purchase\")\n",
        "else:\n",
        "  print(\"\\n So the most clicks didn't fetch the maximum number of purchase\")"
      ],
      "metadata": {
        "colab": {
          "base_uri": "https://localhost:8080/"
        },
        "id": "73fzZfU3d--H",
        "outputId": "d538b1f8-3645-4ba4-d391-6287e4a79d81"
      },
      "execution_count": 58,
      "outputs": [
        {
          "output_type": "stream",
          "name": "stdout",
          "text": [
            "No odf people bought the product after seeing the ad with most clicks: 1.0\n",
            "\n",
            " Maximum number of purchaes 21.0\n",
            "\n",
            " So the most clicks didn't fetch the maximum number of purchase\n"
          ]
        }
      ]
    },
    {
      "cell_type": "code",
      "source": [
        "max_product = max(Approved_Conversion)\n",
        "print(\"Product having maximum. number of purchase:\", max_product)\n",
        "intreset = data1[: ,5]\n",
        "fb_campaign_id = data1[: ,2]\n",
        "gender = data1[:, 4]\n",
        "impressions = data1[: ,6]\n",
        "spent = data1[:, 8]\n",
        "total_conversion = data1[: , 9]\n",
        "approved_conversion = data[: ,10]\n",
        "data_set = [Id_ad , xyz_camp ,fb_campaign_id , age , gender ,intreset ,impressions , clicks , spent ,total_conversion, approved_conversion]\n",
        "for i in data_set:\n",
        "  details_product = np.extract(Approved_Conversion == max(Approved_Conversion) ,i)\n",
        "  print(\":\", details_product)"
      ],
      "metadata": {
        "colab": {
          "base_uri": "https://localhost:8080/"
        },
        "id": "5P9qtEiygshV",
        "outputId": "95dc5d20-534a-45b8-a16b-04423735ec23"
      },
      "execution_count": 60,
      "outputs": [
        {
          "output_type": "stream",
          "name": "stdout",
          "text": [
            "Product having maximum. number of purchase: 21.0\n",
            ": ['1121104']\n",
            ": ['1178']\n",
            ": ['144533']\n",
            ": ['30-34']\n",
            ": ['M']\n",
            ": ['16']\n",
            ": ['2080666']\n",
            ": ['202']\n",
            ": ['360.1500015']\n",
            ": ['40']\n",
            ": [21.]\n"
          ]
        }
      ]
    },
    {
      "cell_type": "code",
      "source": [],
      "metadata": {
        "id": "gBFnrPRUiNfg"
      },
      "execution_count": null,
      "outputs": []
    }
  ]
}